{
 "cells": [
  {
   "cell_type": "markdown",
   "id": "f59a1a13",
   "metadata": {},
   "source": [
    "# EDA Project - BMI Case Study"
   ]
  },
  {
   "cell_type": "code",
   "execution_count": 1,
   "id": "3bfc40a6",
   "metadata": {},
   "outputs": [],
   "source": [
    "import numpy as np\n",
    "import pandas as pd\n",
    "import matplotlib.pyplot as plt\n",
    "import seaborn as sns\n",
    "\n",
    "from warnings import filterwarnings\n",
    "filterwarnings('ignore')\n",
    "\n",
    "import statistics as sts\n",
    "\n",
    "import scipy.stats as stats\n",
    "from  pylab import rcParams \n",
    "import json"
   ]
  },
  {
   "cell_type": "markdown",
   "id": "c6af433c",
   "metadata": {},
   "source": []
  },
  {
   "cell_type": "code",
   "execution_count": 3,
   "id": "01800fc0",
   "metadata": {},
   "outputs": [],
   "source": [
    "#create a Data Frame based on the input\n",
    "\n",
    "data= { 'price':[\n",
    "23, 30, 20, 27, 44, 26, 35, 20, 29, 29,\n",
    "25, 15, 18, 27, 19, 22, 12, 26, 34, 15,\n",
    "27, 35, 26, 43, 35, 14, 24, 12, 23, 31,\n",
    "40, 35, 38, 57, 22, 42, 24, 21, 27, 33\n",
    "]}"
   ]
  },
  {
   "cell_type": "code",
   "execution_count": 4,
   "id": "cdd29b6c",
   "metadata": {},
   "outputs": [
    {
     "data": {
      "text/html": [
       "<div>\n",
       "<style scoped>\n",
       "    .dataframe tbody tr th:only-of-type {\n",
       "        vertical-align: middle;\n",
       "    }\n",
       "\n",
       "    .dataframe tbody tr th {\n",
       "        vertical-align: top;\n",
       "    }\n",
       "\n",
       "    .dataframe thead th {\n",
       "        text-align: right;\n",
       "    }\n",
       "</style>\n",
       "<table border=\"1\" class=\"dataframe\">\n",
       "  <thead>\n",
       "    <tr style=\"text-align: right;\">\n",
       "      <th></th>\n",
       "      <th>price</th>\n",
       "    </tr>\n",
       "  </thead>\n",
       "  <tbody>\n",
       "    <tr>\n",
       "      <th>0</th>\n",
       "      <td>23</td>\n",
       "    </tr>\n",
       "    <tr>\n",
       "      <th>1</th>\n",
       "      <td>30</td>\n",
       "    </tr>\n",
       "    <tr>\n",
       "      <th>2</th>\n",
       "      <td>20</td>\n",
       "    </tr>\n",
       "    <tr>\n",
       "      <th>3</th>\n",
       "      <td>27</td>\n",
       "    </tr>\n",
       "    <tr>\n",
       "      <th>4</th>\n",
       "      <td>44</td>\n",
       "    </tr>\n",
       "  </tbody>\n",
       "</table>\n",
       "</div>"
      ],
      "text/plain": [
       "   price\n",
       "0     23\n",
       "1     30\n",
       "2     20\n",
       "3     27\n",
       "4     44"
      ]
     },
     "execution_count": 4,
     "metadata": {},
     "output_type": "execute_result"
    }
   ],
   "source": [
    "df = pd.DataFrame(data)\n",
    "df.head(5)"
   ]
  },
  {
   "cell_type": "code",
   "execution_count": 7,
   "id": "66bd3ef8",
   "metadata": {},
   "outputs": [],
   "source": [
    "# Copy of the main data is created for furthur use\n",
    "df_cpy = df.copy()"
   ]
  },
  {
   "cell_type": "markdown",
   "id": "44b2ce20",
   "metadata": {},
   "source": [
    "# Q1 - Compute the mean, median and the mode of the data"
   ]
  },
  {
   "cell_type": "code",
   "execution_count": 8,
   "id": "793b54e4",
   "metadata": {},
   "outputs": [
    {
     "name": "stdout",
     "output_type": "stream",
     "text": [
      "Mean of the Price : price    27.625\n",
      "dtype: float64\n"
     ]
    }
   ],
   "source": [
    "# Mean\n",
    "df_mean  = df.mean()\n",
    "print('Mean of the Price :',df_mean)"
   ]
  },
  {
   "cell_type": "code",
   "execution_count": 9,
   "id": "00e6ddc8",
   "metadata": {},
   "outputs": [
    {
     "name": "stdout",
     "output_type": "stream",
     "text": [
      "Median of the Price : price    26.5\n",
      "dtype: float64\n"
     ]
    }
   ],
   "source": [
    "# Median\n",
    "df_median  = df.median()\n",
    "print('Median of the Price :',df_median)"
   ]
  },
  {
   "cell_type": "code",
   "execution_count": 10,
   "id": "f403e375",
   "metadata": {},
   "outputs": [
    {
     "name": "stdout",
     "output_type": "stream",
     "text": [
      "Mode of the Price :    price\n",
      "0     27\n",
      "1     35\n"
     ]
    }
   ],
   "source": [
    "# Mode\n",
    "df_mode  = df.mode()\n",
    "print('Mode of the Price :',df_mode)"
   ]
  },
  {
   "cell_type": "markdown",
   "id": "c8584909",
   "metadata": {},
   "source": [
    "# Q2. Compute the range, variance and standard deviation of Price"
   ]
  },
  {
   "cell_type": "code",
   "execution_count": 11,
   "id": "979080fd",
   "metadata": {},
   "outputs": [
    {
     "name": "stdout",
     "output_type": "stream",
     "text": [
      "Range of the Price: price    45\n",
      "dtype: int64\n"
     ]
    }
   ],
   "source": [
    "#Range\n",
    "df_range = df.max() - df.min()\n",
    "print('Range of the Price:',df_range)"
   ]
  },
  {
   "cell_type": "code",
   "execution_count": 12,
   "id": "8b0549eb",
   "metadata": {},
   "outputs": [
    {
     "name": "stdout",
     "output_type": "stream",
     "text": [
      "Variance of the Price: price    92.599359\n",
      "dtype: float64\n"
     ]
    }
   ],
   "source": [
    "#variance\n",
    "df_var = df.var()\n",
    "print('Variance of the Price:',df_var)"
   ]
  },
  {
   "cell_type": "code",
   "execution_count": 13,
   "id": "991b0581",
   "metadata": {},
   "outputs": [
    {
     "name": "stdout",
     "output_type": "stream",
     "text": [
      "Standard Deviation of the Price: price    9.622856\n",
      "dtype: float64\n"
     ]
    }
   ],
   "source": [
    "#Standard Deviation\n",
    "df_std = df.std()\n",
    "print('Standard Deviation of the Price:',df_std)"
   ]
  },
  {
   "cell_type": "markdown",
   "id": "824148ca",
   "metadata": {},
   "source": [
    "# Q3. Find the mean deviation for the data. "
   ]
  },
  {
   "cell_type": "code",
   "execution_count": 5,
   "id": "c70fffb0",
   "metadata": {
    "scrolled": true
   },
   "outputs": [
    {
     "name": "stdout",
     "output_type": "stream",
     "text": [
      "Mean deviation for the data: price    7.4\n",
      "dtype: float64\n"
     ]
    }
   ],
   "source": [
    "n = len(df)\n",
    "df_mdev =np.sum((np.abs(df-df.mean())/len(df)))\n",
    "print('Mean deviation for the data:',df_mdev)"
   ]
  },
  {
   "cell_type": "code",
   "execution_count": 14,
   "id": "07065f14",
   "metadata": {},
   "outputs": [
    {
     "name": "stdout",
     "output_type": "stream",
     "text": [
      "Mean deviation for the data:        price\n",
      "0  -0.115625\n",
      "1   0.059375\n",
      "2  -0.190625\n",
      "3  -0.015625\n",
      "4   0.409375\n",
      "5  -0.040625\n",
      "6   0.184375\n",
      "7  -0.190625\n",
      "8   0.034375\n",
      "9   0.034375\n",
      "10 -0.065625\n",
      "11 -0.315625\n",
      "12 -0.240625\n",
      "13 -0.015625\n",
      "14 -0.215625\n",
      "15 -0.140625\n",
      "16 -0.390625\n",
      "17 -0.040625\n",
      "18  0.159375\n",
      "19 -0.315625\n",
      "20 -0.015625\n",
      "21  0.184375\n",
      "22 -0.040625\n",
      "23  0.384375\n",
      "24  0.184375\n",
      "25 -0.340625\n",
      "26 -0.090625\n",
      "27 -0.390625\n",
      "28 -0.115625\n",
      "29  0.084375\n",
      "30  0.309375\n",
      "31  0.184375\n",
      "32  0.259375\n",
      "33  0.734375\n",
      "34 -0.140625\n",
      "35  0.359375\n",
      "36 -0.090625\n",
      "37 -0.165625\n",
      "38 -0.015625\n",
      "39  0.134375\n"
     ]
    }
   ],
   "source": [
    "n = len(df)\n",
    "df_mdev = (df - df.mean())/n\n",
    "print('Mean deviation for the data:',df_mdev)"
   ]
  },
  {
   "cell_type": "markdown",
   "id": "1b68fa5b",
   "metadata": {},
   "source": [
    "# Q4. Calculate the Pearson coefficient of skewness and comment on the skewness of the data"
   ]
  },
  {
   "cell_type": "code",
   "execution_count": 15,
   "id": "a85324cb",
   "metadata": {},
   "outputs": [
    {
     "name": "stdout",
     "output_type": "stream",
     "text": [
      "Pearson coefficient of skewness price    0.350727\n",
      "dtype: float64\n"
     ]
    }
   ],
   "source": [
    "df_skew = 3*(df.mean() - df.median())/df.std()\n",
    "print('Pearson coefficient of skewness',df_skew)"
   ]
  },
  {
   "cell_type": "code",
   "execution_count": null,
   "id": "58913030",
   "metadata": {},
   "outputs": [],
   "source": [
    "# From the skewness value it can be inferred that as skewness is positive so the distibution is positively skewed."
   ]
  },
  {
   "cell_type": "code",
   "execution_count": null,
   "id": "99760d58",
   "metadata": {},
   "outputs": [],
   "source": []
  },
  {
   "cell_type": "markdown",
   "id": "00fd1cf6",
   "metadata": {},
   "source": [
    "# Q5. Count the number of data values that fall within one standard deviation of the mean. \n",
    "#Compare this with the answer from Chebyshev’s Theorem."
   ]
  },
  {
   "cell_type": "code",
   "execution_count": 16,
   "id": "6c52a331",
   "metadata": {},
   "outputs": [
    {
     "data": {
      "text/plain": [
       "price    37.247856\n",
       "dtype: float64"
      ]
     },
     "execution_count": 16,
     "metadata": {},
     "output_type": "execute_result"
    }
   ],
   "source": [
    "# finding 1 standard deviation value\n",
    "max1 = df_mean + df_std\n",
    "max1"
   ]
  },
  {
   "cell_type": "code",
   "execution_count": 17,
   "id": "9bc52f8d",
   "metadata": {},
   "outputs": [
    {
     "data": {
      "text/plain": [
       "price    18.002144\n",
       "dtype: float64"
      ]
     },
     "execution_count": 17,
     "metadata": {},
     "output_type": "execute_result"
    }
   ],
   "source": [
    "min1 = df_mean - df_std\n",
    "min1"
   ]
  },
  {
   "cell_type": "code",
   "execution_count": 18,
   "id": "52b0f2b3",
   "metadata": {},
   "outputs": [
    {
     "data": {
      "text/plain": [
       "price    28\n",
       "dtype: int64"
      ]
     },
     "execution_count": 18,
     "metadata": {},
     "output_type": "execute_result"
    }
   ],
   "source": [
    "df[(df < max1) & (df > min1)].count()"
   ]
  },
  {
   "cell_type": "code",
   "execution_count": null,
   "id": "802fce00",
   "metadata": {},
   "outputs": [],
   "source": [
    "# There are 28 data values fall within one standard deviation of the mean."
   ]
  },
  {
   "cell_type": "code",
   "execution_count": null,
   "id": "232d19e7",
   "metadata": {},
   "outputs": [],
   "source": []
  },
  {
   "cell_type": "markdown",
   "id": "e2d1f4be",
   "metadata": {},
   "source": [
    "# Q6. Find the three quartiles and the interquartile range (IQR)."
   ]
  },
  {
   "cell_type": "code",
   "execution_count": 20,
   "id": "63bb8931",
   "metadata": {},
   "outputs": [
    {
     "name": "stdout",
     "output_type": "stream",
     "text": [
      "Q1: 21.75\n",
      "Q2: 26.5\n",
      "Q3: 34.25\n",
      "Inter Quartile Range (IQR): 12.5\n"
     ]
    }
   ],
   "source": [
    "q1 = df['price'].quantile(0.25)\n",
    "q2 = df['price'].quantile(0.50)\n",
    "q3 = df['price'].quantile(0.75)\n",
    "print('Q1:',q1)\n",
    "print('Q2:',q2)\n",
    "print('Q3:',q3)\n",
    "iqr = q3-q1\n",
    "print('Inter Quartile Range (IQR):',iqr)"
   ]
  },
  {
   "cell_type": "code",
   "execution_count": null,
   "id": "4dfc22c9",
   "metadata": {},
   "outputs": [],
   "source": []
  },
  {
   "cell_type": "markdown",
   "id": "3d00df84",
   "metadata": {},
   "source": [
    "# Q7. Are there any outliers in the data set ?"
   ]
  },
  {
   "cell_type": "code",
   "execution_count": 21,
   "id": "46270a68",
   "metadata": {},
   "outputs": [
    {
     "name": "stdout",
     "output_type": "stream",
     "text": [
      "Q1: 21.75\n",
      "Q2: 26.5\n",
      "Q3: 34.25\n",
      "Inter Quartile Range (IQR): 12.5\n",
      "Max value: 53.0\n",
      "Min Value: 3.0\n"
     ]
    }
   ],
   "source": [
    "q1 = df['price'].quantile(0.25)\n",
    "q2 = df['price'].quantile(0.50)\n",
    "q3 = df['price'].quantile(0.75)\n",
    "print('Q1:',q1)\n",
    "print('Q2:',q2)\n",
    "print('Q3:',q3)\n",
    "iqr = q3-q1\n",
    "print('Inter Quartile Range (IQR):',iqr)\n",
    "\n",
    "max1 = q3 + 1.5* iqr\n",
    "min1 = q1 - 1.5* iqr\n",
    "\n",
    "print('Max value:' ,max1)\n",
    "print('Min Value:' ,min1)"
   ]
  },
  {
   "cell_type": "code",
   "execution_count": 22,
   "id": "4c148ebb",
   "metadata": {},
   "outputs": [
    {
     "data": {
      "text/plain": [
       "price    1\n",
       "dtype: int64"
      ]
     },
     "execution_count": 22,
     "metadata": {},
     "output_type": "execute_result"
    }
   ],
   "source": [
    "outliers = df[(df > max1) | (df < min1)]\n",
    "outliers.count()"
   ]
  },
  {
   "cell_type": "code",
   "execution_count": null,
   "id": "e25d1867",
   "metadata": {},
   "outputs": [],
   "source": [
    "# 1 outliers are present in the dataset."
   ]
  },
  {
   "cell_type": "code",
   "execution_count": null,
   "id": "df631a98",
   "metadata": {},
   "outputs": [],
   "source": []
  },
  {
   "cell_type": "markdown",
   "id": "6402f3d5",
   "metadata": {},
   "source": [
    "# Q8. Draw a boxplot of the dataset to confirm."
   ]
  },
  {
   "cell_type": "code",
   "execution_count": 23,
   "id": "3683a249",
   "metadata": {},
   "outputs": [
    {
     "data": {
      "image/png": "[encoded data removed]",
      "text/plain": [
       "<Figure size 432x288 with 1 Axes>"
      ]
     },
     "metadata": {
      "needs_background": "light"
     },
     "output_type": "display_data"
    }
   ],
   "source": [
    "sns.boxplot(df['price'],color = 'cyan')\n",
    "plt.show()"
   ]
  },
  {
   "cell_type": "code",
   "execution_count": null,
   "id": "88b9ec73",
   "metadata": {},
   "outputs": [],
   "source": [
    "#From the above boxplot we can confirm that 1 outliers are present in the dataset"
   ]
  },
  {
   "cell_type": "code",
   "execution_count": null,
   "id": "9c793a7b",
   "metadata": {},
   "outputs": [],
   "source": []
  },
  {
   "cell_type": "markdown",
   "id": "5d91d7b2",
   "metadata": {},
   "source": [
    "# Q9. Find the percentile rank of the datapoint 25.0."
   ]
  },
  {
   "cell_type": "code",
   "execution_count": 6,
   "id": "81332612",
   "metadata": {},
   "outputs": [
    {
     "data": {
      "text/html": [
       "<div>\n",
       "<style scoped>\n",
       "    .dataframe tbody tr th:only-of-type {\n",
       "        vertical-align: middle;\n",
       "    }\n",
       "\n",
       "    .dataframe tbody tr th {\n",
       "        vertical-align: top;\n",
       "    }\n",
       "\n",
       "    .dataframe thead th {\n",
       "        text-align: right;\n",
       "    }\n",
       "</style>\n",
       "<table border=\"1\" class=\"dataframe\">\n",
       "  <thead>\n",
       "    <tr style=\"text-align: right;\">\n",
       "      <th></th>\n",
       "      <th>price</th>\n",
       "    </tr>\n",
       "  </thead>\n",
       "  <tbody>\n",
       "    <tr>\n",
       "      <th>0</th>\n",
       "      <td>0.3375</td>\n",
       "    </tr>\n",
       "    <tr>\n",
       "      <th>1</th>\n",
       "      <td>0.6750</td>\n",
       "    </tr>\n",
       "    <tr>\n",
       "      <th>2</th>\n",
       "      <td>0.2125</td>\n",
       "    </tr>\n",
       "    <tr>\n",
       "      <th>3</th>\n",
       "      <td>0.5625</td>\n",
       "    </tr>\n",
       "    <tr>\n",
       "      <th>4</th>\n",
       "      <td>0.9750</td>\n",
       "    </tr>\n",
       "    <tr>\n",
       "      <th>5</th>\n",
       "      <td>0.4750</td>\n",
       "    </tr>\n",
       "    <tr>\n",
       "      <th>6</th>\n",
       "      <td>0.8125</td>\n",
       "    </tr>\n",
       "    <tr>\n",
       "      <th>7</th>\n",
       "      <td>0.2125</td>\n",
       "    </tr>\n",
       "    <tr>\n",
       "      <th>8</th>\n",
       "      <td>0.6375</td>\n",
       "    </tr>\n",
       "    <tr>\n",
       "      <th>9</th>\n",
       "      <td>0.6375</td>\n",
       "    </tr>\n",
       "    <tr>\n",
       "      <th>10</th>\n",
       "      <td>0.4250</td>\n",
       "    </tr>\n",
       "    <tr>\n",
       "      <th>11</th>\n",
       "      <td>0.1125</td>\n",
       "    </tr>\n",
       "    <tr>\n",
       "      <th>12</th>\n",
       "      <td>0.1500</td>\n",
       "    </tr>\n",
       "    <tr>\n",
       "      <th>13</th>\n",
       "      <td>0.5625</td>\n",
       "    </tr>\n",
       "    <tr>\n",
       "      <th>14</th>\n",
       "      <td>0.1750</td>\n",
       "    </tr>\n",
       "    <tr>\n",
       "      <th>15</th>\n",
       "      <td>0.2875</td>\n",
       "    </tr>\n",
       "    <tr>\n",
       "      <th>16</th>\n",
       "      <td>0.0375</td>\n",
       "    </tr>\n",
       "    <tr>\n",
       "      <th>17</th>\n",
       "      <td>0.4750</td>\n",
       "    </tr>\n",
       "    <tr>\n",
       "      <th>18</th>\n",
       "      <td>0.7500</td>\n",
       "    </tr>\n",
       "    <tr>\n",
       "      <th>19</th>\n",
       "      <td>0.1125</td>\n",
       "    </tr>\n",
       "    <tr>\n",
       "      <th>20</th>\n",
       "      <td>0.5625</td>\n",
       "    </tr>\n",
       "    <tr>\n",
       "      <th>21</th>\n",
       "      <td>0.8125</td>\n",
       "    </tr>\n",
       "    <tr>\n",
       "      <th>22</th>\n",
       "      <td>0.4750</td>\n",
       "    </tr>\n",
       "    <tr>\n",
       "      <th>23</th>\n",
       "      <td>0.9500</td>\n",
       "    </tr>\n",
       "    <tr>\n",
       "      <th>24</th>\n",
       "      <td>0.8125</td>\n",
       "    </tr>\n",
       "    <tr>\n",
       "      <th>25</th>\n",
       "      <td>0.0750</td>\n",
       "    </tr>\n",
       "    <tr>\n",
       "      <th>26</th>\n",
       "      <td>0.3875</td>\n",
       "    </tr>\n",
       "    <tr>\n",
       "      <th>27</th>\n",
       "      <td>0.0375</td>\n",
       "    </tr>\n",
       "    <tr>\n",
       "      <th>28</th>\n",
       "      <td>0.3375</td>\n",
       "    </tr>\n",
       "    <tr>\n",
       "      <th>29</th>\n",
       "      <td>0.7000</td>\n",
       "    </tr>\n",
       "    <tr>\n",
       "      <th>30</th>\n",
       "      <td>0.9000</td>\n",
       "    </tr>\n",
       "    <tr>\n",
       "      <th>31</th>\n",
       "      <td>0.8125</td>\n",
       "    </tr>\n",
       "    <tr>\n",
       "      <th>32</th>\n",
       "      <td>0.8750</td>\n",
       "    </tr>\n",
       "    <tr>\n",
       "      <th>33</th>\n",
       "      <td>1.0000</td>\n",
       "    </tr>\n",
       "    <tr>\n",
       "      <th>34</th>\n",
       "      <td>0.2875</td>\n",
       "    </tr>\n",
       "    <tr>\n",
       "      <th>35</th>\n",
       "      <td>0.9250</td>\n",
       "    </tr>\n",
       "    <tr>\n",
       "      <th>36</th>\n",
       "      <td>0.3875</td>\n",
       "    </tr>\n",
       "    <tr>\n",
       "      <th>37</th>\n",
       "      <td>0.2500</td>\n",
       "    </tr>\n",
       "    <tr>\n",
       "      <th>38</th>\n",
       "      <td>0.5625</td>\n",
       "    </tr>\n",
       "    <tr>\n",
       "      <th>39</th>\n",
       "      <td>0.7250</td>\n",
       "    </tr>\n",
       "  </tbody>\n",
       "</table>\n",
       "</div>"
      ],
      "text/plain": [
       "     price\n",
       "0   0.3375\n",
       "1   0.6750\n",
       "2   0.2125\n",
       "3   0.5625\n",
       "4   0.9750\n",
       "5   0.4750\n",
       "6   0.8125\n",
       "7   0.2125\n",
       "8   0.6375\n",
       "9   0.6375\n",
       "10  0.4250\n",
       "11  0.1125\n",
       "12  0.1500\n",
       "13  0.5625\n",
       "14  0.1750\n",
       "15  0.2875\n",
       "16  0.0375\n",
       "17  0.4750\n",
       "18  0.7500\n",
       "19  0.1125\n",
       "20  0.5625\n",
       "21  0.8125\n",
       "22  0.4750\n",
       "23  0.9500\n",
       "24  0.8125\n",
       "25  0.0750\n",
       "26  0.3875\n",
       "27  0.0375\n",
       "28  0.3375\n",
       "29  0.7000\n",
       "30  0.9000\n",
       "31  0.8125\n",
       "32  0.8750\n",
       "33  1.0000\n",
       "34  0.2875\n",
       "35  0.9250\n",
       "36  0.3875\n",
       "37  0.2500\n",
       "38  0.5625\n",
       "39  0.7250"
      ]
     },
     "execution_count": 6,
     "metadata": {},
     "output_type": "execute_result"
    }
   ],
   "source": [
    "df_p_rank = df.rank(pct =True)\n",
    "df_p_rank"
   ]
  },
  {
   "cell_type": "code",
   "execution_count": 7,
   "id": "af3ee90a",
   "metadata": {},
   "outputs": [
    {
     "data": {
      "text/plain": [
       "price    0.075\n",
       "Name: 25, dtype: float64"
      ]
     },
     "execution_count": 7,
     "metadata": {},
     "output_type": "execute_result"
    }
   ],
   "source": [
    "percent_rank = df.rank(pct = True)\n",
    "percent_rank.iloc[25,:]"
   ]
  },
  {
   "cell_type": "code",
   "execution_count": null,
   "id": "193a7c76",
   "metadata": {},
   "outputs": [],
   "source": []
  },
  {
   "cell_type": "code",
   "execution_count": 8,
   "id": "dde7d7d9",
   "metadata": {},
   "outputs": [],
   "source": [
    "percent_rank =df.rank()\n",
    "df['Rank'] = df.rank(pct = True)"
   ]
  },
  {
   "cell_type": "code",
   "execution_count": 9,
   "id": "04877c09",
   "metadata": {},
   "outputs": [
    {
     "data": {
      "text/html": [
       "<div>\n",
       "<style scoped>\n",
       "    .dataframe tbody tr th:only-of-type {\n",
       "        vertical-align: middle;\n",
       "    }\n",
       "\n",
       "    .dataframe tbody tr th {\n",
       "        vertical-align: top;\n",
       "    }\n",
       "\n",
       "    .dataframe thead th {\n",
       "        text-align: right;\n",
       "    }\n",
       "</style>\n",
       "<table border=\"1\" class=\"dataframe\">\n",
       "  <thead>\n",
       "    <tr style=\"text-align: right;\">\n",
       "      <th></th>\n",
       "      <th>price</th>\n",
       "      <th>Rank</th>\n",
       "    </tr>\n",
       "  </thead>\n",
       "  <tbody>\n",
       "    <tr>\n",
       "      <th>10</th>\n",
       "      <td>25</td>\n",
       "      <td>0.425</td>\n",
       "    </tr>\n",
       "  </tbody>\n",
       "</table>\n",
       "</div>"
      ],
      "text/plain": [
       "    price   Rank\n",
       "10     25  0.425"
      ]
     },
     "execution_count": 9,
     "metadata": {},
     "output_type": "execute_result"
    }
   ],
   "source": [
    "df[df.price == 25]"
   ]
  },
  {
   "cell_type": "code",
   "execution_count": null,
   "id": "d943ff18",
   "metadata": {},
   "outputs": [],
   "source": []
  },
  {
   "cell_type": "markdown",
   "id": "a9ae99f4",
   "metadata": {},
   "source": [
    "## Q10. What is the probability that a shirt cost(price) is above 25 dollars?"
   ]
  },
  {
   "cell_type": "code",
   "execution_count": 31,
   "id": "3c772dc1",
   "metadata": {},
   "outputs": [],
   "source": [
    "x = df[df['price']>25.0].count()"
   ]
  },
  {
   "cell_type": "code",
   "execution_count": 32,
   "id": "23c659d8",
   "metadata": {},
   "outputs": [],
   "source": [
    "n = len(df)"
   ]
  },
  {
   "cell_type": "code",
   "execution_count": 33,
   "id": "c174033a",
   "metadata": {},
   "outputs": [
    {
     "name": "stdout",
     "output_type": "stream",
     "text": [
      "Probability that a shirt cost(price) above 25.0 is 57.49999999999999 %\n"
     ]
    }
   ],
   "source": [
    "p = (x/n)*100\n",
    "print('Probability that a shirt cost(price) above 25.0 is',p[0],'%')"
   ]
  },
  {
   "cell_type": "code",
   "execution_count": null,
   "id": "48a0fb8d",
   "metadata": {},
   "outputs": [],
   "source": []
  },
  {
   "cell_type": "markdown",
   "id": "cc0b9695",
   "metadata": {},
   "source": [
    "## Q11. Create a frequency distribution for the data and visualize it appropriately"
   ]
  },
  {
   "cell_type": "code",
   "execution_count": 35,
   "id": "ac381217",
   "metadata": {},
   "outputs": [
    {
     "data": {
      "image/png": "[encoded data removed]",
      "text/plain": [
       "<Figure size 432x288 with 1 Axes>"
      ]
     },
     "metadata": {
      "needs_background": "light"
     },
     "output_type": "display_data"
    }
   ],
   "source": [
    "sns.histplot(x = 'price',data = df, bins = [15,20,25,30,35,40,45,50],color = ['red'])\n",
    "plt.show()"
   ]
  },
  {
   "cell_type": "code",
   "execution_count": 37,
   "id": "9f4ee6ff",
   "metadata": {},
   "outputs": [
    {
     "data": {
      "text/plain": [
       "<AxesSubplot:>"
      ]
     },
     "execution_count": 37,
     "metadata": {},
     "output_type": "execute_result"
    },
    {
     "data": {
      "image/png": "[encoded data removed]",
      "text/plain": [
       "<Figure size 432x288 with 1 Axes>"
      ]
     },
     "metadata": {
      "needs_background": "light"
     },
     "output_type": "display_data"
    }
   ],
   "source": [
    "#Additional Method\n",
    "pd.cut(df['price'],bins = 7).value_counts().plot(kind = 'bar',color = ['red','blue'])"
   ]
  },
  {
   "cell_type": "code",
   "execution_count": null,
   "id": "f42946e1",
   "metadata": {},
   "outputs": [],
   "source": []
  },
  {
   "cell_type": "markdown",
   "id": "f9aa6877",
   "metadata": {},
   "source": [
    "## Q12. Create a probability distribution of the data and visualize it appropriately."
   ]
  },
  {
   "cell_type": "code",
   "execution_count": 39,
   "id": "de7802f5",
   "metadata": {},
   "outputs": [
    {
     "data": {
      "text/html": [
       "<div>\n",
       "<style scoped>\n",
       "    .dataframe tbody tr th:only-of-type {\n",
       "        vertical-align: middle;\n",
       "    }\n",
       "\n",
       "    .dataframe tbody tr th {\n",
       "        vertical-align: top;\n",
       "    }\n",
       "\n",
       "    .dataframe thead th {\n",
       "        text-align: right;\n",
       "    }\n",
       "</style>\n",
       "<table border=\"1\" class=\"dataframe\">\n",
       "  <thead>\n",
       "    <tr style=\"text-align: right;\">\n",
       "      <th></th>\n",
       "      <th>price</th>\n",
       "      <th>Prob_Dist</th>\n",
       "    </tr>\n",
       "  </thead>\n",
       "  <tbody>\n",
       "    <tr>\n",
       "      <th>0</th>\n",
       "      <td>23</td>\n",
       "      <td>0.3375</td>\n",
       "    </tr>\n",
       "    <tr>\n",
       "      <th>1</th>\n",
       "      <td>30</td>\n",
       "      <td>0.6750</td>\n",
       "    </tr>\n",
       "    <tr>\n",
       "      <th>2</th>\n",
       "      <td>20</td>\n",
       "      <td>0.2125</td>\n",
       "    </tr>\n",
       "    <tr>\n",
       "      <th>3</th>\n",
       "      <td>27</td>\n",
       "      <td>0.5625</td>\n",
       "    </tr>\n",
       "    <tr>\n",
       "      <th>4</th>\n",
       "      <td>44</td>\n",
       "      <td>0.9750</td>\n",
       "    </tr>\n",
       "  </tbody>\n",
       "</table>\n",
       "</div>"
      ],
      "text/plain": [
       "   price  Prob_Dist\n",
       "0     23     0.3375\n",
       "1     30     0.6750\n",
       "2     20     0.2125\n",
       "3     27     0.5625\n",
       "4     44     0.9750"
      ]
     },
     "execution_count": 39,
     "metadata": {},
     "output_type": "execute_result"
    }
   ],
   "source": [
    "df_cpy['Prob_Dist'] = df_cpy['price'].rank(pct = True)\n",
    "df_cpy.head(5)"
   ]
  },
  {
   "cell_type": "code",
   "execution_count": 40,
   "id": "00af2f27",
   "metadata": {},
   "outputs": [
    {
     "data": {
      "image/png": "[encoded data removed]",
      "text/plain": [
       "<Figure size 432x288 with 1 Axes>"
      ]
     },
     "metadata": {
      "needs_background": "light"
     },
     "output_type": "display_data"
    }
   ],
   "source": [
    "df['price'].rank(pct=True).plot(kind = 'kde')\n",
    "plt.show()"
   ]
  },
  {
   "cell_type": "code",
   "execution_count": null,
   "id": "75f7d958",
   "metadata": {},
   "outputs": [],
   "source": []
  },
  {
   "cell_type": "markdown",
   "id": "a1ef9e46",
   "metadata": {},
   "source": [
    "## Q13. What is the shape of the distribution of this dataset? \n",
    "Create an appropriate graph to determine that. Take 100 random samples with replacement from this dataset of size 5 each.\n",
    "Create a sampling distribution of the mean age of customers. \n",
    "Compare with other sampling distributions of sample size 10, 15, 20, 25, 30. \n",
    "State your observations. Does it corroborate the Central Limit Theorem?"
   ]
  },
  {
   "cell_type": "code",
   "execution_count": 61,
   "id": "de02dc5d",
   "metadata": {},
   "outputs": [
    {
     "data": {
      "text/plain": [
       "<AxesSubplot:xlabel='price', ylabel='Density'>"
      ]
     },
     "execution_count": 61,
     "metadata": {},
     "output_type": "execute_result"
    },
    {
     "data": {
      "image/png": "[encoded data removed]",
      "text/plain": [
       "<Figure size 432x288 with 1 Axes>"
      ]
     },
     "metadata": {
      "needs_background": "light"
     },
     "output_type": "display_data"
    }
   ],
   "source": [
    "sns.kdeplot(df['price'])"
   ]
  },
  {
   "cell_type": "code",
   "execution_count": null,
   "id": "af3c5d1b",
   "metadata": {},
   "outputs": [],
   "source": []
  },
  {
   "cell_type": "markdown",
   "id": "2507e89b",
   "metadata": {},
   "source": [
    "## Q14. Treat this dataset as a binomial distribution where p is the probability that a shirt costs above 25 dollars. What is the probability that out of a random sample of 10 shirts 7 are costing more than 25 dollars"
   ]
  },
  {
   "cell_type": "code",
   "execution_count": 41,
   "id": "eece1335",
   "metadata": {},
   "outputs": [],
   "source": [
    "x = df[df['price']>25.0].count()\n",
    "n = len(df)"
   ]
  },
  {
   "cell_type": "code",
   "execution_count": 42,
   "id": "78ea3cd8",
   "metadata": {},
   "outputs": [
    {
     "data": {
      "text/plain": [
       "array([19.14357081])"
      ]
     },
     "execution_count": 42,
     "metadata": {},
     "output_type": "execute_result"
    }
   ],
   "source": [
    "prob = (x/n)\n",
    "samp = 10\n",
    "x1 = 7\n",
    "\n",
    "stats.binom.pmf(x1,samp,prob)*100"
   ]
  },
  {
   "cell_type": "code",
   "execution_count": null,
   "id": "31741138",
   "metadata": {},
   "outputs": [],
   "source": [
    "#There is 19.14% the probability that out of a random sample of 10 shirts are having price greater than 25.0"
   ]
  },
  {
   "cell_type": "code",
   "execution_count": null,
   "id": "14d8124b",
   "metadata": {},
   "outputs": [],
   "source": []
  },
  {
   "cell_type": "markdown",
   "id": "35d7d4e5",
   "metadata": {},
   "source": [
    "## Q15. NuCloth Claims that 60% of all shirts in their website cost less than 25 dollars . Using the Normal approximation of a Binomial distribution, find the probability that in a random sample of 10 shirts 7 of them will cost less than 25 dollars."
   ]
  },
  {
   "cell_type": "markdown",
   "id": "483a0688",
   "metadata": {},
   "source": [
    "[ Note that the normal distribution can be used to \n",
    " approximate a binomial distribution if np>=5 and nq>=5 with the following correction for continuity\n",
    "P(X=z) = P(z-0.5 < X < z+0.5 ) ]"
   ]
  },
  {
   "cell_type": "code",
   "execution_count": 44,
   "id": "7fe8ff32",
   "metadata": {},
   "outputs": [
    {
     "data": {
      "text/plain": [
       "0.21499084799999976"
      ]
     },
     "execution_count": 44,
     "metadata": {},
     "output_type": "execute_result"
    }
   ],
   "source": [
    "p = 0.60\n",
    "n = 10\n",
    "x = 7\n",
    "\n",
    "stats.binom.pmf(x,n,p) "
   ]
  },
  {
   "cell_type": "code",
   "execution_count": null,
   "id": "5eabd37f",
   "metadata": {},
   "outputs": [],
   "source": [
    "#There is 21 % probability that in a random sample of 10 shirt\n",
    "# 7 of them will have will have a price is less than 25.0."
   ]
  },
  {
   "cell_type": "code",
   "execution_count": null,
   "id": "ae920a59",
   "metadata": {},
   "outputs": [],
   "source": []
  },
  {
   "cell_type": "markdown",
   "id": "6cbee0e8",
   "metadata": {},
   "source": [
    "## Q16. Compute a 95% Confidence Interval for the true price of a shirt in the NuCloth website using appropriate distribution.\n",
    "( State reasons as to why did you use a z or t distribution)\n"
   ]
  },
  {
   "cell_type": "code",
   "execution_count": 45,
   "id": "9ff39627",
   "metadata": {},
   "outputs": [],
   "source": [
    "x_bar = df.mean()\n",
    "sigma = df.std()\n",
    "n = len(df)"
   ]
  },
  {
   "cell_type": "code",
   "execution_count": 46,
   "id": "e129a5e7",
   "metadata": {},
   "outputs": [
    {
     "data": {
      "text/plain": [
       "(array([24.64290081]), array([30.60709919]))"
      ]
     },
     "execution_count": 46,
     "metadata": {},
     "output_type": "execute_result"
    }
   ],
   "source": [
    "interval = stats.norm.interval(0.95,loc = x_bar,scale = sigma/n**0.5)\n",
    "interval"
   ]
  },
  {
   "cell_type": "code",
   "execution_count": null,
   "id": "7fd062b0",
   "metadata": {},
   "outputs": [],
   "source": [
    "# As our samples are greater than 30 so we are using the Z distribution"
   ]
  },
  {
   "cell_type": "code",
   "execution_count": null,
   "id": "6bba435f",
   "metadata": {},
   "outputs": [],
   "source": [
    "#Proportion of 95% Confidence Interval for the true price of a shirt in the NuCloth website is (24.64290081,30.60709919)"
   ]
  },
  {
   "cell_type": "code",
   "execution_count": null,
   "id": "093ae2e9",
   "metadata": {},
   "outputs": [],
   "source": []
  },
  {
   "cell_type": "markdown",
   "id": "9806f833",
   "metadata": {},
   "source": [
    "## Q17. A data scientist wants to estimate with 95% confidence the true proportion of shirts having price greater than 25 dollars in the NuCloth website. A recent study showed that 60% of all shirts have a price greater than 25 dollars. The data scientist wants to be accurate within 2% of the true proportion. Find the minimum sample size necessary.\n"
   ]
  },
  {
   "cell_type": "code",
   "execution_count": 47,
   "id": "2b2f0165",
   "metadata": {},
   "outputs": [],
   "source": [
    "alpha = 0.05\n",
    "z_alpha_2 = stats.norm.isf(alpha/2)\n",
    "sigma = df.std()\n",
    "margin_error = 2"
   ]
  },
  {
   "cell_type": "code",
   "execution_count": 48,
   "id": "dd25d4e1",
   "metadata": {},
   "outputs": [
    {
     "name": "stdout",
     "output_type": "stream",
     "text": [
      "89\n"
     ]
    }
   ],
   "source": [
    "n1 = ((z_alpha_2*sigma)/margin_error)**2\n",
    "print(round(n1[0]))"
   ]
  },
  {
   "cell_type": "code",
   "execution_count": null,
   "id": "e520b147",
   "metadata": {},
   "outputs": [],
   "source": [
    "# from the above data we can inferred that minimum sample required are 89"
   ]
  },
  {
   "cell_type": "code",
   "execution_count": null,
   "id": "0aeb1e2c",
   "metadata": {},
   "outputs": [],
   "source": []
  },
  {
   "cell_type": "markdown",
   "id": "29bedadb",
   "metadata": {},
   "source": [
    "## Q18. The same data scientist wants to estimate the true proportion of shirts having price greater than 25 dollars. She wants to be 90% confident and accurate within 5% of true proportion. Find the minimum sample size necessary."
   ]
  },
  {
   "cell_type": "code",
   "execution_count": 49,
   "id": "21dd8767",
   "metadata": {},
   "outputs": [],
   "source": [
    "alpha = 0.1\n",
    "z_alpha_2 = stats.norm.isf(alpha/2)\n",
    "sigma = df.std()\n",
    "margin_error = 5"
   ]
  },
  {
   "cell_type": "code",
   "execution_count": 50,
   "id": "81bb2ef2",
   "metadata": {},
   "outputs": [
    {
     "name": "stdout",
     "output_type": "stream",
     "text": [
      "10\n"
     ]
    }
   ],
   "source": [
    "n2 = ((z_alpha_2*sigma)/margin_error)**2\n",
    "print(round(n2[0]))"
   ]
  },
  {
   "cell_type": "code",
   "execution_count": 51,
   "id": "74c8b3ec",
   "metadata": {},
   "outputs": [],
   "source": [
    "# from the above data we can inferred that minimum sample required are 10"
   ]
  },
  {
   "cell_type": "code",
   "execution_count": null,
   "id": "c4c47eb3",
   "metadata": {},
   "outputs": [],
   "source": []
  },
  {
   "cell_type": "markdown",
   "id": "ea4b809b",
   "metadata": {},
   "source": [
    "## Q19. NuCloth claims that currently 80% of all shirts have prices greater than 25 dollars . Test this claim with an alpha =0.05 if out of a random sample of 30 shirts only 23 are having prices above 25 dollars."
   ]
  },
  {
   "cell_type": "code",
   "execution_count": 54,
   "id": "0e8861ab",
   "metadata": {},
   "outputs": [
    {
     "name": "stdout",
     "output_type": "stream",
     "text": [
      "Test statistic: -0.45643546458763834\n",
      "p-value: 0.6759615659304269\n"
     ]
    }
   ],
   "source": [
    "#H0: p = 0.8\n",
    "#H1: p != 0.8\n",
    "n=30\n",
    "\n",
    "p_samp = 23/30\n",
    "\n",
    "# hypothesized proportion\n",
    "hypo_p = 0.8 \n",
    "\n",
    "# calculate test statistic value for 1 sample proportion test\n",
    "z_stat = (p_samp - hypo_p) / np.sqrt((hypo_p * (1 - hypo_p)) / n)\n",
    "p_value = stats.norm.sf(z_stat)\n",
    "print('Test statistic:', z_stat)\n",
    "print('p-value:', p_value)"
   ]
  },
  {
   "cell_type": "code",
   "execution_count": null,
   "id": "0cfa5cc1",
   "metadata": {},
   "outputs": [],
   "source": [
    "# Inference :\n",
    "# p_value > 0.05, so we fail to reject H0\n",
    "# we failed to reject null so claim is true that currently 80% of all shirts have prices greater than 25 dollars"
   ]
  },
  {
   "cell_type": "code",
   "execution_count": null,
   "id": "2c615589",
   "metadata": {},
   "outputs": [],
   "source": []
  },
  {
   "cell_type": "markdown",
   "id": "8f3505d4",
   "metadata": {},
   "source": [
    "## Q20. A data scientist is researching the hypothesis that the average price of a shirt in NuCloth is higher than the supermarket. So he collects data from NuCloth and the supermarket that the average shirt price of shirts in NuCloth is 36 dollars vs 34 dollars in the supermarket. The standard deviations are 7.6 and 5.8 respectively.Suppose the data scientist got these values after randomly selecting 100 shirts from each place.\n",
    "\n",
    "a. What hypothesis would he use to compare the shirt prices of NuCloth vs Supermarket\n",
    "\n",
    "b. What are critical values to be used?\n",
    "\n",
    "c. What statistical test will be used to compare these prices?\n",
    "\n",
    "d. Complete the test and obtain the P-value.\n",
    "\n",
    "e. Summarize his conclusion based on the P-value"
   ]
  },
  {
   "cell_type": "code",
   "execution_count": 57,
   "id": "e13e4b9e",
   "metadata": {},
   "outputs": [
    {
     "name": "stdout",
     "output_type": "stream",
     "text": [
      "Degrees of freedom: 198\n"
     ]
    }
   ],
   "source": [
    "# H0: mu1 - mu2 <= 0\n",
    "# H1: mu1 - mu2 > 0\n",
    "\n",
    "#H1: NuCloth - Supermarket > 0\n",
    "#H0: NuCloth - Supermarket <= 0\n",
    "\n",
    "n1 = 100\n",
    "x1_bar = 36\n",
    "s1 = 7.6\n",
    "\n",
    "n2 = 100\n",
    "x2_bar = 34\n",
    "s2 = 5.8\n",
    "\n",
    "# degrees of freedom for 2 sample t-test\n",
    "print('Degrees of freedom:', n1 + n2 - 2)"
   ]
  },
  {
   "cell_type": "code",
   "execution_count": 58,
   "id": "986dd878",
   "metadata": {},
   "outputs": [
    {
     "name": "stdout",
     "output_type": "stream",
     "text": [
      "Critical values for two-tailed t-test: -1.6525857836172082 and 1.6525857836172082\n"
     ]
    }
   ],
   "source": [
    "# calculate critical value )\n",
    "t_critical = stats.t.isf(q = 0.05,df = 198)\n",
    "print('Critical values for two-tailed t-test:', - t_critical, 'and', t_critical)"
   ]
  },
  {
   "cell_type": "code",
   "execution_count": 59,
   "id": "6e30670e",
   "metadata": {},
   "outputs": [
    {
     "name": "stdout",
     "output_type": "stream",
     "text": [
      "Test Statistic: 2.0919769632765197\n"
     ]
    }
   ],
   "source": [
    "# calculate pooled standard deviation\n",
    "s = np.sqrt((((n1-1)*s1**2) + ((n2-1)*s2**2)) / (n1 + n2 - 2))\n",
    "t_stat = (x1_bar - x2_bar) / (s * np.sqrt(1/n1 + 1/n2))\n",
    "print('Test Statistic:', t_stat)"
   ]
  },
  {
   "cell_type": "code",
   "execution_count": 60,
   "id": "3b6ece49",
   "metadata": {},
   "outputs": [
    {
     "name": "stdout",
     "output_type": "stream",
     "text": [
      "p-value: 1.9540227383900604\n"
     ]
    }
   ],
   "source": [
    "p_value = 2 * stats.t.cdf(t_stat, df = 27)   \n",
    "# for a two-tailed test multiply the p-value by 2\n",
    "print('p-value:', p_value)"
   ]
  },
  {
   "cell_type": "code",
   "execution_count": null,
   "id": "647682c9",
   "metadata": {},
   "outputs": [],
   "source": [
    "# Since p_value > level of significance, therefore Fail to Reject H0,\n",
    "#i.e the average price of a shirt in NuCloth is higher than the supermarket"
   ]
  },
  {
   "cell_type": "code",
   "execution_count": null,
   "id": "aaa86a1a",
   "metadata": {},
   "outputs": [],
   "source": []
  }
 ],
 "metadata": {
  "kernelspec": {
   "display_name": "Python 3 (ipykernel)",
   "language": "python",
   "name": "python3"
  },
  "language_info": {
   "codemirror_mode": {
    "name": "ipython",
    "version": 3
   },
   "file_extension": ".py",
   "mimetype": "text/x-python",
   "name": "python",
   "nbconvert_exporter": "python",
   "pygments_lexer": "ipython3",
   "version": "3.9.13"
  }
 },
 "nbformat": 4,
 "nbformat_minor": 5
}
